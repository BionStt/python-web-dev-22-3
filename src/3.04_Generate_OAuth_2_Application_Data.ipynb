{
 "cells": [
  {
   "cell_type": "code",
   "execution_count": 1,
   "metadata": {},
   "outputs": [],
   "source": [
    "from django.contrib.auth import get_user_model\n",
    "from django.urls import reverse\n",
    "from oauth2_provider.models import get_application_model\n",
    "\n",
    "OAuth_App = get_application_model()\n",
    "User = get_user_model()"
   ]
  },
  {
   "cell_type": "code",
   "execution_count": 2,
   "metadata": {},
   "outputs": [],
   "source": [
    "# User.objects.filter(email='resource_owner@jambonsw.com').delete()"
   ]
  },
  {
   "cell_type": "code",
   "execution_count": 3,
   "metadata": {},
   "outputs": [],
   "source": [
    "basic_user = User.objects.create_user(\n",
    "    email='resource_owner@jambonsw.com',\n",
    "    password='securepassword!',\n",
    "    full_name='Resource Owner',\n",
    "    short_name='owner',\n",
    ")"
   ]
  },
  {
   "cell_type": "code",
   "execution_count": 4,
   "metadata": {},
   "outputs": [
    {
     "data": {
      "text/plain": [
       "('password', 'authorization-code')"
      ]
     },
     "execution_count": 4,
     "metadata": {},
     "output_type": "execute_result"
    }
   ],
   "source": [
    "OAuth_App.GRANT_PASSWORD, OAuth_App.GRANT_AUTHORIZATION_CODE"
   ]
  },
  {
   "cell_type": "code",
   "execution_count": 5,
   "metadata": {},
   "outputs": [],
   "source": [
    "pw_app = OAuth_App.objects.create(\n",
    "    user=basic_user,\n",
    "    name=\"Password Grant Example App\",\n",
    "    client_type=OAuth_App.CLIENT_PUBLIC,\n",
    "    authorization_grant_type=OAuth_App.GRANT_PASSWORD,\n",
    "    redirect_uris=\"https://example.com/\",\n",
    ")\n",
    "code_app = OAuth_App.objects.create(\n",
    "    user=basic_user,\n",
    "    name=\"Auth Code Example App\",\n",
    "    client_type=OAuth_App.CLIENT_PUBLIC,\n",
    "    authorization_grant_type=OAuth_App.GRANT_AUTHORIZATION_CODE,\n",
    "    redirect_uris=\"https://example.com/\",\n",
    ")"
   ]
  },
  {
   "cell_type": "code",
   "execution_count": 6,
   "metadata": {},
   "outputs": [
    {
     "data": {
      "text/plain": [
       "'95wzK3695Ew8Z8cFJsyszMkNMZuJFTLXyCfYYrnH'"
      ]
     },
     "execution_count": 6,
     "metadata": {},
     "output_type": "execute_result"
    }
   ],
   "source": [
    "pw_app.client_id"
   ]
  },
  {
   "cell_type": "code",
   "execution_count": 7,
   "metadata": {},
   "outputs": [
    {
     "data": {
      "text/plain": [
       "'IYtQqM5eki515AfeRtqof1JPb8yg5ZQMEz9gdnHafFgMYhbR8flaC61DRJON5jqKVVNr0CTa9n9cJhcRG7CgnNPkXPylCRnjh7XH4ffbt6hrzqL9zJ9xGsw2aBA9m6jV'"
      ]
     },
     "execution_count": 7,
     "metadata": {},
     "output_type": "execute_result"
    }
   ],
   "source": [
    "pw_app.client_secret"
   ]
  },
  {
   "cell_type": "code",
   "execution_count": 8,
   "metadata": {},
   "outputs": [
    {
     "data": {
      "text/plain": [
       "'J6ZGvbUjuEr79OCEvbgaKq7FHM5FRNFPywsE4TXF'"
      ]
     },
     "execution_count": 8,
     "metadata": {},
     "output_type": "execute_result"
    }
   ],
   "source": [
    "code_app.client_id"
   ]
  },
  {
   "cell_type": "code",
   "execution_count": 9,
   "metadata": {},
   "outputs": [
    {
     "data": {
      "text/plain": [
       "'G3zHvM33Moe9JIaeVrlh8zKjzZWP2lZGDtPzzkfL9F0nlko0wdkdS3SASfhqEhrWFPaaj0MoQaKQujS4u0t85v6x1aMGD88lkeunhxV5rgcVD7oMu6qJ6IsT15beiHoz'"
      ]
     },
     "execution_count": 9,
     "metadata": {},
     "output_type": "execute_result"
    }
   ],
   "source": [
    "code_app.client_secret"
   ]
  },
  {
   "cell_type": "code",
   "execution_count": 10,
   "metadata": {
    "scrolled": true
   },
   "outputs": [
    {
     "data": {
      "text/plain": [
       "'/o/token/'"
      ]
     },
     "execution_count": 10,
     "metadata": {},
     "output_type": "execute_result"
    }
   ],
   "source": [
    "reverse(\"oauth2_provider:token\")"
   ]
  },
  {
   "cell_type": "code",
   "execution_count": 11,
   "metadata": {},
   "outputs": [
    {
     "data": {
      "text/plain": [
       "'/o/authorize/'"
      ]
     },
     "execution_count": 11,
     "metadata": {},
     "output_type": "execute_result"
    }
   ],
   "source": [
    "reverse(\"oauth2_provider:authorize\")"
   ]
  },
  {
   "cell_type": "code",
   "execution_count": 12,
   "metadata": {},
   "outputs": [],
   "source": [
    "# OAuth_App.objects.all().delete()"
   ]
  }
 ],
 "metadata": {
  "kernelspec": {
   "display_name": "Django Shell-Plus",
   "language": "python",
   "name": "django_extensions"
  },
  "language_info": {
   "codemirror_mode": {
    "name": "ipython",
    "version": 3
   },
   "file_extension": ".py",
   "mimetype": "text/x-python",
   "name": "python",
   "nbconvert_exporter": "python",
   "pygments_lexer": "ipython3",
   "version": "3.7.4"
  }
 },
 "nbformat": 4,
 "nbformat_minor": 2
}
