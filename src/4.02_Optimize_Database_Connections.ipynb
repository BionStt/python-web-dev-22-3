{
 "cells": [
  {
   "cell_type": "markdown",
   "metadata": {},
   "source": [
    "# Examining SQL for Optimization"
   ]
  },
  {
   "cell_type": "code",
   "execution_count": 1,
   "metadata": {},
   "outputs": [],
   "source": [
    "links = NewsLink.objects.all()"
   ]
  },
  {
   "cell_type": "code",
   "execution_count": 2,
   "metadata": {
    "scrolled": false
   },
   "outputs": [
    {
     "name": "stdout",
     "output_type": "stream",
     "text": [
      "SELECT \"organizer_newslink\".\"id\", \"organizer_newslink\".\"title\", \"organizer_newslink\".\"slug\", \"organizer_newslink\".\"pub_date\", \"organizer_newslink\".\"link\", \"organizer_newslink\".\"startup_id\" FROM \"organizer_newslink\" ORDER BY \"organizer_newslink\".\"pub_date\" DESC\n"
     ]
    }
   ],
   "source": [
    "print(links.query)"
   ]
  },
  {
   "cell_type": "code",
   "execution_count": 3,
   "metadata": {},
   "outputs": [
    {
     "name": "stdout",
     "output_type": "stream",
     "text": [
      "SELECT \"organizer_newslink\".\"id\", \"organizer_newslink\".\"title\", \"organizer_newslink\".\"slug\", \"organizer_newslink\".\"pub_date\", \"organizer_newslink\".\"link\", \"organizer_newslink\".\"startup_id\", \"organizer_startup\".\"id\", \"organizer_startup\".\"name\", \"organizer_startup\".\"slug\", \"organizer_startup\".\"description\", \"organizer_startup\".\"founded_date\", \"organizer_startup\".\"contact\", \"organizer_startup\".\"website\" FROM \"organizer_newslink\" INNER JOIN \"organizer_startup\" ON (\"organizer_newslink\".\"startup_id\" = \"organizer_startup\".\"id\") ORDER BY \"organizer_newslink\".\"pub_date\" DESC\n"
     ]
    }
   ],
   "source": [
    "print(\n",
    "    NewsLink.objects\n",
    "    .select_related('startup')\n",
    "    .query\n",
    ")"
   ]
  },
  {
   "cell_type": "markdown",
   "metadata": {},
   "source": [
    "## Prefetch SQL"
   ]
  },
  {
   "cell_type": "code",
   "execution_count": 4,
   "metadata": {},
   "outputs": [],
   "source": [
    "posts = Post.objects.all()\n",
    "posts_startups = (\n",
    "    Post.objects.prefetch_related(\n",
    "        'startups',\n",
    "    )\n",
    ")"
   ]
  },
  {
   "cell_type": "code",
   "execution_count": 5,
   "metadata": {},
   "outputs": [
    {
     "data": {
      "text/plain": [
       "True"
      ]
     },
     "execution_count": 5,
     "metadata": {},
     "output_type": "execute_result"
    }
   ],
   "source": [
    "list(posts_startups) == list(posts)"
   ]
  },
  {
   "cell_type": "code",
   "execution_count": 6,
   "metadata": {},
   "outputs": [
    {
     "data": {
      "text/plain": [
       "True"
      ]
     },
     "execution_count": 6,
     "metadata": {},
     "output_type": "execute_result"
    }
   ],
   "source": [
    "str(posts.query) == str(posts_startups.query)"
   ]
  },
  {
   "cell_type": "code",
   "execution_count": 7,
   "metadata": {},
   "outputs": [
    {
     "name": "stdout",
     "output_type": "stream",
     "text": [
      "SELECT \"blog_post\".\"id\", \"blog_post\".\"title\", \"blog_post\".\"slug\", \"blog_post\".\"text\", \"blog_post\".\"pub_date\" FROM \"blog_post\" ORDER BY \"blog_post\".\"pub_date\" DESC, \"blog_post\".\"title\" ASC\n"
     ]
    }
   ],
   "source": [
    "print(posts_startups.query)"
   ]
  },
  {
   "cell_type": "code",
   "execution_count": 8,
   "metadata": {},
   "outputs": [],
   "source": [
    "from django.db import connection\n",
    "from pprint import pprint"
   ]
  },
  {
   "cell_type": "code",
   "execution_count": 9,
   "metadata": {},
   "outputs": [
    {
     "name": "stdout",
     "output_type": "stream",
     "text": [
      "SELECT \"blog_post\".\"id\", \"blog_post\".\"title\", \"blog_post\".\"slug\", \"blog_post\".\"text\", \"blog_post\".\"pub_date\" FROM \"blog_post\" ORDER BY \"blog_post\".\"pub_date\" DESC, \"blog_post\".\"title\" ASC\n"
     ]
    }
   ],
   "source": [
    "print(connection.queries[-1]['sql'])"
   ]
  },
  {
   "cell_type": "code",
   "execution_count": 10,
   "metadata": {},
   "outputs": [
    {
     "name": "stdout",
     "output_type": "stream",
     "text": [
      "SELECT (\"blog_post_startups\".\"post_id\") AS \"_prefetch_related_val_post_id\", \"organizer_startup\".\"id\", \"organizer_startup\".\"name\", \"organizer_startup\".\"slug\", \"organizer_startup\".\"description\", \"organizer_startup\".\"founded_date\", \"organizer_startup\".\"contact\", \"organizer_startup\".\"website\" FROM \"organizer_startup\" INNER JOIN \"blog_post_startups\" ON (\"organizer_startup\".\"id\" = \"blog_post_startups\".\"startup_id\") WHERE \"blog_post_startups\".\"post_id\" IN (1, 2) ORDER BY \"organizer_startup\".\"name\" ASC\n"
     ]
    }
   ],
   "source": [
    "print(connection.queries[-2]['sql'])\n",
    "# a prefetch causes a new query"
   ]
  },
  {
   "cell_type": "code",
   "execution_count": 11,
   "metadata": {},
   "outputs": [],
   "source": [
    "from django.db import reset_queries\n",
    "reset_queries()"
   ]
  },
  {
   "cell_type": "code",
   "execution_count": 12,
   "metadata": {},
   "outputs": [
    {
     "name": "stdout",
     "output_type": "stream",
     "text": [
      "[]\n"
     ]
    }
   ],
   "source": [
    "pprint(connection.queries)"
   ]
  },
  {
   "cell_type": "code",
   "execution_count": 13,
   "metadata": {},
   "outputs": [],
   "source": [
    "posts = Post.objects.prefetch_related('startups')"
   ]
  },
  {
   "cell_type": "code",
   "execution_count": 14,
   "metadata": {},
   "outputs": [
    {
     "name": "stdout",
     "output_type": "stream",
     "text": [
      "[]\n"
     ]
    }
   ],
   "source": [
    "# the queryset never evaluated!\n",
    "pprint(connection.queries)"
   ]
  },
  {
   "cell_type": "code",
   "execution_count": 15,
   "metadata": {},
   "outputs": [],
   "source": [
    "posts = list(posts)  # force evaluation"
   ]
  },
  {
   "cell_type": "code",
   "execution_count": 16,
   "metadata": {},
   "outputs": [
    {
     "name": "stdout",
     "output_type": "stream",
     "text": [
      "[{'sql': 'SELECT \"blog_post\".\"id\", \"blog_post\".\"title\", \"blog_post\".\"slug\", '\n",
      "         '\"blog_post\".\"text\", \"blog_post\".\"pub_date\" FROM \"blog_post\" ORDER BY '\n",
      "         '\"blog_post\".\"pub_date\" DESC, \"blog_post\".\"title\" ASC',\n",
      "  'time': '0.001'},\n",
      " {'sql': 'SELECT (\"blog_post_startups\".\"post_id\") AS '\n",
      "         '\"_prefetch_related_val_post_id\", \"organizer_startup\".\"id\", '\n",
      "         '\"organizer_startup\".\"name\", \"organizer_startup\".\"slug\", '\n",
      "         '\"organizer_startup\".\"description\", '\n",
      "         '\"organizer_startup\".\"founded_date\", \"organizer_startup\".\"contact\", '\n",
      "         '\"organizer_startup\".\"website\" FROM \"organizer_startup\" INNER JOIN '\n",
      "         '\"blog_post_startups\" ON (\"organizer_startup\".\"id\" = '\n",
      "         '\"blog_post_startups\".\"startup_id\") WHERE '\n",
      "         '\"blog_post_startups\".\"post_id\" IN (1, 2) ORDER BY '\n",
      "         '\"organizer_startup\".\"name\" ASC',\n",
      "  'time': '0.001'}]\n"
     ]
    }
   ],
   "source": [
    "# two queries:\n",
    "#     the first for Post,\n",
    "#     the second for Startups related to the Post\n",
    "pprint(connection.queries)"
   ]
  },
  {
   "cell_type": "code",
   "execution_count": 17,
   "metadata": {},
   "outputs": [
    {
     "name": "stdout",
     "output_type": "stream",
     "text": [
      "[{'sql': 'SELECT \"blog_post\".\"id\", \"blog_post\".\"title\", \"blog_post\".\"slug\", '\n",
      "         '\"blog_post\".\"text\", \"blog_post\".\"pub_date\" FROM \"blog_post\" ORDER BY '\n",
      "         '\"blog_post\".\"pub_date\" DESC, \"blog_post\".\"title\" ASC',\n",
      "  'time': '0.001'},\n",
      " {'sql': 'SELECT (\"blog_post_startups\".\"post_id\") AS '\n",
      "         '\"_prefetch_related_val_post_id\", \"organizer_startup\".\"id\", '\n",
      "         '\"organizer_startup\".\"name\", \"organizer_startup\".\"slug\", '\n",
      "         '\"organizer_startup\".\"description\", '\n",
      "         '\"organizer_startup\".\"founded_date\", \"organizer_startup\".\"contact\", '\n",
      "         '\"organizer_startup\".\"website\" FROM \"organizer_startup\" INNER JOIN '\n",
      "         '\"blog_post_startups\" ON (\"organizer_startup\".\"id\" = '\n",
      "         '\"blog_post_startups\".\"startup_id\") WHERE '\n",
      "         '\"blog_post_startups\".\"post_id\" IN (1, 2) ORDER BY '\n",
      "         '\"organizer_startup\".\"name\" ASC',\n",
      "  'time': '0.001'},\n",
      " {'sql': 'SELECT (\"organizer_startup_tags\".\"startup_id\") AS '\n",
      "         '\"_prefetch_related_val_startup_id\", \"organizer_tag\".\"id\", '\n",
      "         '\"organizer_tag\".\"name\", \"organizer_tag\".\"slug\" FROM \"organizer_tag\" '\n",
      "         'INNER JOIN \"organizer_startup_tags\" ON (\"organizer_tag\".\"id\" = '\n",
      "         '\"organizer_startup_tags\".\"tag_id\") WHERE '\n",
      "         '\"organizer_startup_tags\".\"startup_id\" IN (1) ORDER BY '\n",
      "         '\"organizer_tag\".\"name\" ASC',\n",
      "  'time': '0.001'}]\n"
     ]
    }
   ],
   "source": [
    "reset_queries()\n",
    "# three queries:\n",
    "#     first for Post,\n",
    "#     the second for Startups associated with those Posts\n",
    "#     and then for the Tags associated with the Startups\n",
    "posts = list(\n",
    "    Post.objects.prefetch_related(\n",
    "        'startups__tags'\n",
    "    ),\n",
    ")\n",
    "posts_conn = connection.queries\n",
    "pprint(posts_conn)"
   ]
  },
  {
   "cell_type": "code",
   "execution_count": 18,
   "metadata": {},
   "outputs": [
    {
     "name": "stdout",
     "output_type": "stream",
     "text": [
      "[{'sql': 'SELECT \"blog_post\".\"id\", \"blog_post\".\"title\", \"blog_post\".\"slug\", '\n",
      "         '\"blog_post\".\"text\", \"blog_post\".\"pub_date\" FROM \"blog_post\" ORDER BY '\n",
      "         '\"blog_post\".\"pub_date\" DESC, \"blog_post\".\"title\" ASC',\n",
      "  'time': '0.001'},\n",
      " {'sql': 'SELECT (\"blog_post_startups\".\"post_id\") AS '\n",
      "         '\"_prefetch_related_val_post_id\", \"organizer_startup\".\"id\", '\n",
      "         '\"organizer_startup\".\"name\", \"organizer_startup\".\"slug\", '\n",
      "         '\"organizer_startup\".\"description\", '\n",
      "         '\"organizer_startup\".\"founded_date\", \"organizer_startup\".\"contact\", '\n",
      "         '\"organizer_startup\".\"website\" FROM \"organizer_startup\" INNER JOIN '\n",
      "         '\"blog_post_startups\" ON (\"organizer_startup\".\"id\" = '\n",
      "         '\"blog_post_startups\".\"startup_id\") WHERE '\n",
      "         '\"blog_post_startups\".\"post_id\" IN (1, 2) ORDER BY '\n",
      "         '\"organizer_startup\".\"name\" ASC',\n",
      "  'time': '0.001'},\n",
      " {'sql': 'SELECT (\"organizer_startup_tags\".\"startup_id\") AS '\n",
      "         '\"_prefetch_related_val_startup_id\", \"organizer_tag\".\"id\", '\n",
      "         '\"organizer_tag\".\"name\", \"organizer_tag\".\"slug\" FROM \"organizer_tag\" '\n",
      "         'INNER JOIN \"organizer_startup_tags\" ON (\"organizer_tag\".\"id\" = '\n",
      "         '\"organizer_startup_tags\".\"tag_id\") WHERE '\n",
      "         '\"organizer_startup_tags\".\"startup_id\" IN (1) ORDER BY '\n",
      "         '\"organizer_tag\".\"name\" ASC',\n",
      "  'time': '0.001'}]\n"
     ]
    }
   ],
   "source": [
    "reset_queries()\n",
    "# the following query is redundant\n",
    "posts = list(\n",
    "    Post.objects.prefetch_related(\n",
    "        'startups',\n",
    "        'startups__tags'\n",
    "    ),\n",
    ")\n",
    "pprint(connection.queries)"
   ]
  },
  {
   "cell_type": "code",
   "execution_count": 19,
   "metadata": {
    "scrolled": true
   },
   "outputs": [
    {
     "name": "stdout",
     "output_type": "stream",
     "text": [
      "['SELECT \"blog_post\".\"id\", \"blog_post\".\"title\", \"blog_post\".\"slug\", '\n",
      " '\"blog_post\".\"text\", \"blog_post\".\"pub_date\" FROM \"blog_post\" ORDER BY '\n",
      " '\"blog_post\".\"pub_date\" DESC, \"blog_post\".\"title\" ASC',\n",
      " 'SELECT (\"blog_post_startups\".\"post_id\") AS \"_prefetch_related_val_post_id\", '\n",
      " '\"organizer_startup\".\"id\", \"organizer_startup\".\"name\", '\n",
      " '\"organizer_startup\".\"slug\", \"organizer_startup\".\"description\", '\n",
      " '\"organizer_startup\".\"founded_date\", \"organizer_startup\".\"contact\", '\n",
      " '\"organizer_startup\".\"website\" FROM \"organizer_startup\" INNER JOIN '\n",
      " '\"blog_post_startups\" ON (\"organizer_startup\".\"id\" = '\n",
      " '\"blog_post_startups\".\"startup_id\") WHERE \"blog_post_startups\".\"post_id\" IN '\n",
      " '(1, 2) ORDER BY \"organizer_startup\".\"name\" ASC',\n",
      " 'SELECT (\"organizer_startup_tags\".\"startup_id\") AS '\n",
      " '\"_prefetch_related_val_startup_id\", \"organizer_tag\".\"id\", '\n",
      " '\"organizer_tag\".\"name\", \"organizer_tag\".\"slug\" FROM \"organizer_tag\" INNER '\n",
      " 'JOIN \"organizer_startup_tags\" ON (\"organizer_tag\".\"id\" = '\n",
      " '\"organizer_startup_tags\".\"tag_id\") WHERE '\n",
      " '\"organizer_startup_tags\".\"startup_id\" IN (1) ORDER BY \"organizer_tag\".\"name\" '\n",
      " 'ASC']\n"
     ]
    }
   ],
   "source": [
    "pprint([info[\"sql\"] for info in connection.queries])"
   ]
  },
  {
   "cell_type": "code",
   "execution_count": 20,
   "metadata": {},
   "outputs": [],
   "source": [
    "def sql_is_equal(q1, q2):\n",
    "    return [info[\"sql\"] for info in q1] == [info[\"sql\"] for info in q2]"
   ]
  },
  {
   "cell_type": "code",
   "execution_count": 21,
   "metadata": {},
   "outputs": [
    {
     "data": {
      "text/plain": [
       "True"
      ]
     },
     "execution_count": 21,
     "metadata": {},
     "output_type": "execute_result"
    }
   ],
   "source": [
    "sql_is_equal(posts_conn, connection.queries)"
   ]
  },
  {
   "cell_type": "markdown",
   "metadata": {},
   "source": [
    "## Prefetch Objects"
   ]
  },
  {
   "cell_type": "code",
   "execution_count": 22,
   "metadata": {
    "scrolled": true
   },
   "outputs": [
    {
     "data": {
      "text/plain": [
       "True"
      ]
     },
     "execution_count": 22,
     "metadata": {},
     "output_type": "execute_result"
    }
   ],
   "source": [
    "reset_queries()\n",
    "posts = list(\n",
    "    Post.objects.prefetch_related(\n",
    "        Prefetch(\n",
    "            'startups__tags',\n",
    "        ),\n",
    "    )\n",
    ")\n",
    "sql_is_equal(posts_conn, connection.queries)"
   ]
  },
  {
   "cell_type": "code",
   "execution_count": 23,
   "metadata": {},
   "outputs": [
    {
     "data": {
      "text/plain": [
       "True"
      ]
     },
     "execution_count": 23,
     "metadata": {},
     "output_type": "execute_result"
    }
   ],
   "source": [
    "reset_queries()\n",
    "posts = list(\n",
    "    Post.objects.prefetch_related(\n",
    "        Prefetch(\n",
    "            'startups__tags',\n",
    "            queryset=Tag.objects.all(),\n",
    "            to_attr='cached_tags',\n",
    "        ),\n",
    "    )\n",
    ")\n",
    "sql_is_equal(posts_conn, connection.queries)"
   ]
  },
  {
   "cell_type": "code",
   "execution_count": 24,
   "metadata": {},
   "outputs": [],
   "source": [
    "# make sure none of the code calls the database!\n",
    "reset_queries()"
   ]
  },
  {
   "cell_type": "code",
   "execution_count": null,
   "metadata": {
    "scrolled": true
   },
   "outputs": [],
   "source": [
    "posts"
   ]
  },
  {
   "cell_type": "code",
   "execution_count": 25,
   "metadata": {},
   "outputs": [],
   "source": [
    "django_training = posts[0]"
   ]
  },
  {
   "cell_type": "code",
   "execution_count": 26,
   "metadata": {},
   "outputs": [
    {
     "data": {
      "text/plain": [
       "<QuerySet [<Startup: JamBon Software>]>"
      ]
     },
     "execution_count": 26,
     "metadata": {},
     "output_type": "execute_result"
    }
   ],
   "source": [
    "django_training.startups.all()"
   ]
  },
  {
   "cell_type": "code",
   "execution_count": 27,
   "metadata": {},
   "outputs": [
    {
     "data": {
      "text/plain": [
       "django.db.models.query.QuerySet"
      ]
     },
     "execution_count": 27,
     "metadata": {},
     "output_type": "execute_result"
    }
   ],
   "source": [
    "type(django_training.startups.all())"
   ]
  },
  {
   "cell_type": "code",
   "execution_count": 28,
   "metadata": {},
   "outputs": [
    {
     "data": {
      "text/plain": [
       "[<Tag: Consulting>, <Tag: Django>, <Tag: Education>]"
      ]
     },
     "execution_count": 28,
     "metadata": {},
     "output_type": "execute_result"
    }
   ],
   "source": [
    "jambon_software = django_training.startups.all()[0]\n",
    "jambon_software.cached_tags"
   ]
  },
  {
   "cell_type": "code",
   "execution_count": 29,
   "metadata": {},
   "outputs": [
    {
     "data": {
      "text/plain": [
       "list"
      ]
     },
     "execution_count": 29,
     "metadata": {},
     "output_type": "execute_result"
    }
   ],
   "source": [
    "type(jambon_software.cached_tags)"
   ]
  },
  {
   "cell_type": "code",
   "execution_count": 30,
   "metadata": {
    "scrolled": false
   },
   "outputs": [
    {
     "name": "stdout",
     "output_type": "stream",
     "text": [
      "[]\n"
     ]
    }
   ],
   "source": [
    "# no database calls!\n",
    "pprint(connection.queries)"
   ]
  },
  {
   "cell_type": "code",
   "execution_count": 31,
   "metadata": {},
   "outputs": [
    {
     "data": {
      "text/plain": [
       "<QuerySet [<Tag: Consulting>, <Tag: Django>, <Tag: Education>]>"
      ]
     },
     "execution_count": 31,
     "metadata": {},
     "output_type": "execute_result"
    }
   ],
   "source": [
    "jambon_software.tags.all()"
   ]
  },
  {
   "cell_type": "code",
   "execution_count": 32,
   "metadata": {},
   "outputs": [
    {
     "name": "stdout",
     "output_type": "stream",
     "text": [
      "[{'sql': 'SELECT \"organizer_tag\".\"id\", \"organizer_tag\".\"name\", '\n",
      "         '\"organizer_tag\".\"slug\" FROM \"organizer_tag\" INNER JOIN '\n",
      "         '\"organizer_startup_tags\" ON (\"organizer_tag\".\"id\" = '\n",
      "         '\"organizer_startup_tags\".\"tag_id\") WHERE '\n",
      "         '\"organizer_startup_tags\".\"startup_id\" = 1 ORDER BY '\n",
      "         '\"organizer_tag\".\"name\" ASC  LIMIT 21',\n",
      "  'time': '0.001'}]\n"
     ]
    }
   ],
   "source": [
    "pprint(connection.queries)"
   ]
  },
  {
   "cell_type": "code",
   "execution_count": 33,
   "metadata": {},
   "outputs": [
    {
     "data": {
      "text/plain": [
       "5"
      ]
     },
     "execution_count": 33,
     "metadata": {},
     "output_type": "execute_result"
    }
   ],
   "source": [
    "reset_queries()\n",
    "startups = list(\n",
    "    Startup.objects.prefetch_related(\n",
    "        Prefetch(\n",
    "            'blog_posts',\n",
    "            queryset=(\n",
    "                # could use select_related here!\n",
    "                Post.objects.all()\n",
    "            ),\n",
    "            to_attr='cached_posts',\n",
    "        ),\n",
    "        Prefetch(\n",
    "            'cached_posts__tags',\n",
    "            to_attr='cached_post_tags',\n",
    "        ),\n",
    "        Prefetch(\n",
    "            'tags',\n",
    "            to_attr='cached_tags',\n",
    "        ),\n",
    "        Prefetch(\n",
    "            'cached_tags__startup_set',\n",
    "        ),\n",
    "    )\n",
    ")\n",
    "len(connection.queries)"
   ]
  },
  {
   "cell_type": "code",
   "execution_count": 34,
   "metadata": {},
   "outputs": [
    {
     "data": {
      "text/plain": [
       "[<Startup: JamBon Software>, <Startup: True Tickets>]"
      ]
     },
     "execution_count": 34,
     "metadata": {},
     "output_type": "execute_result"
    }
   ],
   "source": [
    "reset_queries()\n",
    "startups"
   ]
  },
  {
   "cell_type": "code",
   "execution_count": 35,
   "metadata": {},
   "outputs": [],
   "source": [
    "jambon_software = startups[0]"
   ]
  },
  {
   "cell_type": "code",
   "execution_count": 36,
   "metadata": {},
   "outputs": [
    {
     "data": {
      "text/plain": [
       "[<Post: Django Training on 2019-08-22>, <Post: Example Post on 2019-08-22>]"
      ]
     },
     "execution_count": 36,
     "metadata": {},
     "output_type": "execute_result"
    }
   ],
   "source": [
    "jambon_software.cached_posts"
   ]
  },
  {
   "cell_type": "code",
   "execution_count": 37,
   "metadata": {
    "scrolled": true
   },
   "outputs": [],
   "source": [
    "django_training = jambon_software.cached_posts[0]"
   ]
  },
  {
   "cell_type": "code",
   "execution_count": 38,
   "metadata": {},
   "outputs": [
    {
     "data": {
      "text/plain": [
       "[<Tag: Django>, <Tag: Education>]"
      ]
     },
     "execution_count": 38,
     "metadata": {},
     "output_type": "execute_result"
    }
   ],
   "source": [
    "django_training.cached_post_tags"
   ]
  },
  {
   "cell_type": "code",
   "execution_count": 39,
   "metadata": {},
   "outputs": [
    {
     "data": {
      "text/plain": [
       "[<Tag: Consulting>, <Tag: Django>, <Tag: Education>]"
      ]
     },
     "execution_count": 39,
     "metadata": {},
     "output_type": "execute_result"
    }
   ],
   "source": [
    "jambon_software.cached_tags"
   ]
  },
  {
   "cell_type": "code",
   "execution_count": 40,
   "metadata": {},
   "outputs": [
    {
     "data": {
      "text/plain": [
       "<QuerySet [<Startup: JamBon Software>, <Startup: True Tickets>]>"
      ]
     },
     "execution_count": 40,
     "metadata": {},
     "output_type": "execute_result"
    }
   ],
   "source": [
    "django = jambon_software.cached_tags[1]\n",
    "django.startup_set.all()"
   ]
  },
  {
   "cell_type": "code",
   "execution_count": 41,
   "metadata": {
    "scrolled": false
   },
   "outputs": [
    {
     "name": "stdout",
     "output_type": "stream",
     "text": [
      "JamBon Software has the following competitors:\n",
      "    True Tickets\n",
      "True Tickets has the following competitors:\n",
      "    JamBon Software\n"
     ]
    }
   ],
   "source": [
    "for startup in startups:\n",
    "    print(\n",
    "        '{} has the following competitors:'\n",
    "        .format(startup))\n",
    "    for tag in startup.cached_tags:\n",
    "        for competitor in tag.startup_set.all():\n",
    "            if competitor.pk != startup.pk:\n",
    "                print(\n",
    "                    '    {}'\n",
    "                    .format(competitor))"
   ]
  },
  {
   "cell_type": "code",
   "execution_count": 42,
   "metadata": {
    "scrolled": true
   },
   "outputs": [
    {
     "name": "stdout",
     "output_type": "stream",
     "text": [
      "[]\n"
     ]
    }
   ],
   "source": [
    "pprint(connection.queries)"
   ]
  },
  {
   "cell_type": "markdown",
   "metadata": {},
   "source": [
    "## Limiting Fields"
   ]
  },
  {
   "cell_type": "code",
   "execution_count": 43,
   "metadata": {
    "scrolled": true
   },
   "outputs": [
    {
     "data": {
      "text/plain": [
       "[{'name': 'Business-to-Business', 'slug': 'business-to-business'},\n",
       " {'name': 'Consulting', 'slug': 'consulting'},\n",
       " {'name': 'Distributed Systems', 'slug': 'distributed-systems'},\n",
       " {'name': 'Django', 'slug': 'django'},\n",
       " {'name': 'Education', 'slug': 'education'},\n",
       " {'name': 'IBM Blockchain', 'slug': 'ibm-blockchain'},\n",
       " {'name': 'Mobile', 'slug': 'mobile'},\n",
       " {'name': 'Video Games', 'slug': 'video-games'},\n",
       " {'name': 'Web', 'slug': 'web'}]"
      ]
     },
     "execution_count": 43,
     "metadata": {},
     "output_type": "execute_result"
    }
   ],
   "source": [
    "list(Tag.objects.values('name', 'slug'))"
   ]
  },
  {
   "cell_type": "code",
   "execution_count": 44,
   "metadata": {},
   "outputs": [
    {
     "name": "stdout",
     "output_type": "stream",
     "text": [
      "SELECT \"organizer_tag\".\"name\", \"organizer_tag\".\"slug\" FROM \"organizer_tag\" ORDER BY \"organizer_tag\".\"name\" ASC\n"
     ]
    }
   ],
   "source": [
    "print(Tag.objects.values('name', 'slug').query)"
   ]
  },
  {
   "cell_type": "code",
   "execution_count": 45,
   "metadata": {},
   "outputs": [
    {
     "data": {
      "text/plain": [
       "['Business-to-Business',\n",
       " 'Consulting',\n",
       " 'Distributed Systems',\n",
       " 'Django',\n",
       " 'Education',\n",
       " 'IBM Blockchain',\n",
       " 'Mobile',\n",
       " 'Video Games',\n",
       " 'Web']"
      ]
     },
     "execution_count": 45,
     "metadata": {},
     "output_type": "execute_result"
    }
   ],
   "source": [
    "list(Tag.objects.values_list('name', flat=True))"
   ]
  },
  {
   "cell_type": "code",
   "execution_count": 46,
   "metadata": {},
   "outputs": [
    {
     "name": "stdout",
     "output_type": "stream",
     "text": [
      "SELECT \"organizer_tag\".\"name\" FROM \"organizer_tag\" ORDER BY \"organizer_tag\".\"name\" ASC\n"
     ]
    }
   ],
   "source": [
    "print(Tag.objects.values_list('name', flat=True).query)"
   ]
  },
  {
   "cell_type": "code",
   "execution_count": 47,
   "metadata": {},
   "outputs": [
    {
     "name": "stdout",
     "output_type": "stream",
     "text": [
      "SELECT \"organizer_tag\".\"id\", \"organizer_tag\".\"name\", \"organizer_tag\".\"slug\" FROM \"organizer_tag\" ORDER BY \"organizer_tag\".\"name\" ASC\n"
     ]
    }
   ],
   "source": [
    "print(Tag.objects.all().query)"
   ]
  },
  {
   "cell_type": "code",
   "execution_count": 48,
   "metadata": {},
   "outputs": [
    {
     "name": "stdout",
     "output_type": "stream",
     "text": [
      "SELECT \"organizer_tag\".\"id\", \"organizer_tag\".\"name\" FROM \"organizer_tag\" ORDER BY \"organizer_tag\".\"name\" ASC\n"
     ]
    }
   ],
   "source": [
    "print(Tag.objects.defer('slug').query)"
   ]
  },
  {
   "cell_type": "code",
   "execution_count": 49,
   "metadata": {},
   "outputs": [
    {
     "name": "stdout",
     "output_type": "stream",
     "text": [
      "SELECT \"organizer_tag\".\"id\", \"organizer_tag\".\"name\", \"organizer_tag\".\"slug\" FROM \"organizer_tag\" ORDER BY \"organizer_tag\".\"name\" ASC\n"
     ]
    }
   ],
   "source": [
    "print(Tag.objects.defer('id').query)"
   ]
  },
  {
   "cell_type": "code",
   "execution_count": 50,
   "metadata": {},
   "outputs": [
    {
     "name": "stdout",
     "output_type": "stream",
     "text": [
      "Tag has no field named 'pk'\n"
     ]
    }
   ],
   "source": [
    "from django.core.exceptions import FieldDoesNotExist\n",
    "try:\n",
    "    tags = list(Tag.objects.defer('pk'))\n",
    "except FieldDoesNotExist as e:\n",
    "    print(e)"
   ]
  },
  {
   "cell_type": "code",
   "execution_count": 52,
   "metadata": {},
   "outputs": [
    {
     "data": {
      "text/plain": [
       "[<Tag: Business-to-Business>,\n",
       " <Tag: Consulting>,\n",
       " <Tag: Distributed Systems>,\n",
       " <Tag: Django>,\n",
       " <Tag: Education>,\n",
       " <Tag: IBM Blockchain>,\n",
       " <Tag: Mobile>,\n",
       " <Tag: Video Games>,\n",
       " <Tag: Web>]"
      ]
     },
     "execution_count": 52,
     "metadata": {},
     "output_type": "execute_result"
    }
   ],
   "source": [
    "list(Tag.objects.only('name'))"
   ]
  },
  {
   "cell_type": "code",
   "execution_count": 53,
   "metadata": {},
   "outputs": [
    {
     "data": {
      "text/plain": [
       "True"
      ]
     },
     "execution_count": 53,
     "metadata": {},
     "output_type": "execute_result"
    }
   ],
   "source": [
    "str(Tag.objects.defer('slug').query) == str(Tag.objects.only('name').query)"
   ]
  },
  {
   "cell_type": "code",
   "execution_count": 54,
   "metadata": {},
   "outputs": [
    {
     "name": "stdout",
     "output_type": "stream",
     "text": [
      "SELECT \"organizer_tag\".\"id\", \"organizer_tag\".\"name\", \"organizer_tag\".\"slug\" FROM \"organizer_tag\" ORDER BY \"organizer_tag\".\"name\" ASC\n"
     ]
    }
   ],
   "source": [
    "print(Tag.objects.only('name').values().query)"
   ]
  },
  {
   "cell_type": "code",
   "execution_count": 55,
   "metadata": {},
   "outputs": [
    {
     "name": "stdout",
     "output_type": "stream",
     "text": [
      "Cannot call only() after .values() or .values_list()\n"
     ]
    }
   ],
   "source": [
    "try:\n",
    "    tags = Tag.objects.values().only('name')\n",
    "except TypeError as e:\n",
    "    print(e)"
   ]
  }
 ],
 "metadata": {
  "kernelspec": {
   "display_name": "Django Shell-Plus",
   "language": "python",
   "name": "django_extensions"
  },
  "language_info": {
   "codemirror_mode": {
    "name": "ipython",
    "version": 3
   },
   "file_extension": ".py",
   "mimetype": "text/x-python",
   "name": "python",
   "nbconvert_exporter": "python",
   "pygments_lexer": "ipython3",
   "version": "3.7.4"
  }
 },
 "nbformat": 4,
 "nbformat_minor": 1
}
