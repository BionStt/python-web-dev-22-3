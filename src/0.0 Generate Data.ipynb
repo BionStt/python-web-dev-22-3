{
 "cells": [
  {
   "cell_type": "code",
   "execution_count": 1,
   "metadata": {},
   "outputs": [],
   "source": [
    "from datetime import date"
   ]
  },
  {
   "cell_type": "code",
   "execution_count": 2,
   "metadata": {},
   "outputs": [
    {
     "name": "stdout",
     "output_type": "stream",
     "text": [
      "Gone!\n"
     ]
    }
   ],
   "source": [
    "# Remove quotes to run this command\n",
    "# Destroys everything!\n",
    "\"\"\"\n",
    "Post.objects.all().delete()\n",
    "NewsLink.objects.all().delete()\n",
    "Startup.objects.all().delete()\n",
    "Tag.objects.all().delete()\n",
    "User.objects.all().delete()\n",
    "\"\"\"\n",
    "print(\"Gone!\")"
   ]
  },
  {
   "cell_type": "code",
   "execution_count": 3,
   "metadata": {},
   "outputs": [
    {
     "data": {
      "text/plain": [
       "[<Tag: Business-to-Business>,\n",
       " <Tag: Consulting>,\n",
       " <Tag: Distributed Systems>,\n",
       " <Tag: Django>,\n",
       " <Tag: Education>,\n",
       " <Tag: IBM Blockchain>,\n",
       " <Tag: Mobile>,\n",
       " <Tag: Web>,\n",
       " <Tag: Video Games>]"
      ]
     },
     "execution_count": 3,
     "metadata": {},
     "output_type": "execute_result"
    }
   ],
   "source": [
    "# Shell-Plus loads our models implicitly even in Jupyter NB!\n",
    "Tag.objects.bulk_create([\n",
    "    Tag(name='Business-to-Business'),\n",
    "    Tag(name='Consulting'),\n",
    "    Tag(name='Distributed Systems'),\n",
    "    Tag(name='Django'),\n",
    "    Tag(name='Education'),\n",
    "    Tag(name='IBM Blockchain'),\n",
    "    Tag(name='Mobile'),\n",
    "    Tag(name='Web'),\n",
    "    Tag(name='Video Games')\n",
    "])"
   ]
  },
  {
   "cell_type": "code",
   "execution_count": 4,
   "metadata": {},
   "outputs": [],
   "source": [
    "jb = Startup.objects.create(\n",
    "    name='JamBon Software',\n",
    "    slug='jambon-software',\n",
    "    contact='django@jambonsw.com',\n",
    "    description='Web and Mobile Consulting.\\n'\n",
    "                'Django Tutoring.\\n',\n",
    "    founded_date=date(2013, 1, 18),\n",
    "    website='https://jambonsw.com/',\n",
    ")"
   ]
  },
  {
   "cell_type": "code",
   "execution_count": 5,
   "metadata": {},
   "outputs": [],
   "source": [
    "# how many database queries is this?\n",
    "jb.tags.add(\n",
    "    Tag.objects.get(slug='consulting'),\n",
    "    Tag.objects.get(slug='django'),\n",
    "    Tag.objects.get(slug='education'),\n",
    ")"
   ]
  },
  {
   "cell_type": "code",
   "execution_count": 6,
   "metadata": {},
   "outputs": [
    {
     "data": {
      "text/plain": [
       "<NewsLink: JamBon Software: Pretend Site Announcement>"
      ]
     },
     "execution_count": 6,
     "metadata": {},
     "output_type": "execute_result"
    }
   ],
   "source": [
    "NewsLink.objects.create(\n",
    "    title='Pretend Site Announcement',\n",
    "    slug='announcement',\n",
    "    pub_date=date(2013, 1, 18),\n",
    "    link='https://jambonsw.com/',\n",
    "    startup=jb,\n",
    ")"
   ]
  },
  {
   "cell_type": "code",
   "execution_count": 7,
   "metadata": {},
   "outputs": [],
   "source": [
    "tt = Startup.objects.create(\n",
    "    name='True Tickets',\n",
    "    slug='true-tickets',\n",
    "    contact='not-an-email@true-tickets.com',\n",
    "    description='True Tickets make buying, selling, and transferring entertainment tickets simple and safe.',\n",
    "    founded_date=date(2013, 1, 18),\n",
    "    website='https://true-tickets.com/',\n",
    ")"
   ]
  },
  {
   "cell_type": "code",
   "execution_count": 8,
   "metadata": {},
   "outputs": [],
   "source": [
    "# how many database queries is this?\n",
    "# https://docs.djangoproject.com/en/2.2/topics/db/queries/#complex-lookups-with-q-objects\n",
    "tt.tags.add(\n",
    "    *Tag.objects.filter(\n",
    "        Q(slug__icontains='blockchain')\n",
    "        | Q(slug__icontains='business')\n",
    "        | Q(slug__icontains='distributed')\n",
    "        | Q(slug__icontains='Django')\n",
    "    )\n",
    ")"
   ]
  },
  {
   "cell_type": "code",
   "execution_count": 9,
   "metadata": {},
   "outputs": [
    {
     "data": {
      "text/plain": [
       "<NewsLink: True Tickets: Introducing the next-gen platform for enterprise blockchain>"
      ]
     },
     "execution_count": 9,
     "metadata": {},
     "output_type": "execute_result"
    }
   ],
   "source": [
    "NewsLink.objects.create(\n",
    "    title='Introducing the next-gen platform for enterprise blockchain',\n",
    "    slug='2019-6-next-gen-blockchain',\n",
    "    pub_date=date(2019, 6, 18),\n",
    "    link='https://www.ibm.com/blogs/blockchain/2019/06/introducing-the-next-gen-platform-for-enterprise-blockchain/',\n",
    "    startup=tt,\n",
    ")"
   ]
  },
  {
   "cell_type": "code",
   "execution_count": 10,
   "metadata": {},
   "outputs": [
    {
     "data": {
      "text/plain": [
       "<NewsLink: True Tickets: Live Webcast: Realizing the True ROI of Blockchain>"
      ]
     },
     "execution_count": 10,
     "metadata": {},
     "output_type": "execute_result"
    }
   ],
   "source": [
    "NewsLink.objects.create(\n",
    "    title='Live Webcast: Realizing the True ROI of Blockchain',\n",
    "    slug='2019-5-live-webcast-techrepublic',\n",
    "    pub_date=date(2019, 5, 22),\n",
    "    link='https://www.techrepublic.com/resource-library/webcasts/how-a-digital-ticketing-platform-is-realizing-the-true-roi-of-blockchain/',\n",
    "    startup=tt,\n",
    ")"
   ]
  },
  {
   "cell_type": "code",
   "execution_count": 11,
   "metadata": {},
   "outputs": [],
   "source": [
    "djt = Post.objects.create(\n",
    "    title='Django Training',\n",
    "    slug='django-training',\n",
    "    text=(\n",
    "        'Learn Django in a classroom setting '\n",
    "        'with JamBon Software.'),\n",
    ")"
   ]
  },
  {
   "cell_type": "code",
   "execution_count": 12,
   "metadata": {},
   "outputs": [],
   "source": [
    "# how many database queries is this?\n",
    "# https://docs.djangoproject.com/en/2.2/topics/db/queries/#complex-lookups-with-q-objects\n",
    "djt.tags.add(\n",
    "    *Tag.objects.filter(\n",
    "        Q(slug__contains='django')\n",
    "        | Q(slug__contains='edu')\n",
    "    )\n",
    ")"
   ]
  },
  {
   "cell_type": "code",
   "execution_count": 13,
   "metadata": {},
   "outputs": [],
   "source": [
    "jb.blog_posts.add(djt)"
   ]
  }
 ],
 "metadata": {
  "kernelspec": {
   "display_name": "Django Shell-Plus",
   "language": "python",
   "name": "django_extensions"
  },
  "language_info": {
   "codemirror_mode": {
    "name": "ipython",
    "version": 3
   },
   "file_extension": ".py",
   "mimetype": "text/x-python",
   "name": "python",
   "nbconvert_exporter": "python",
   "pygments_lexer": "ipython3",
   "version": "3.7.4"
  }
 },
 "nbformat": 4,
 "nbformat_minor": 2
}
