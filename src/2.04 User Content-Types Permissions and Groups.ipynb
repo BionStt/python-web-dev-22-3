{
 "cells": [
  {
   "cell_type": "markdown",
   "metadata": {},
   "source": [
    "# Improved User Model"
   ]
  },
  {
   "cell_type": "code",
   "execution_count": 1,
   "metadata": {},
   "outputs": [],
   "source": [
    "# Don't!\n",
    "# from user.models import User\n",
    "# Do instead:\n",
    "from django.contrib.auth import get_user_model\n",
    "User = get_user_model()"
   ]
  },
  {
   "cell_type": "code",
   "execution_count": 2,
   "metadata": {},
   "outputs": [],
   "source": [
    "# works just like a model\n",
    "new_user = User(short_name=\"Andrew\", email=\"django@jambonsw.com\")"
   ]
  },
  {
   "cell_type": "code",
   "execution_count": 3,
   "metadata": {},
   "outputs": [
    {
     "data": {
      "text/plain": [
       "<User: django@jambonsw.com>"
      ]
     },
     "execution_count": 3,
     "metadata": {},
     "output_type": "execute_result"
    }
   ],
   "source": [
    "new_user"
   ]
  },
  {
   "cell_type": "code",
   "execution_count": 4,
   "metadata": {},
   "outputs": [
    {
     "data": {
      "text/plain": [
       "''"
      ]
     },
     "execution_count": 4,
     "metadata": {},
     "output_type": "execute_result"
    }
   ],
   "source": [
    "# with a bit of an exception\n",
    "new_user.password"
   ]
  },
  {
   "cell_type": "code",
   "execution_count": 5,
   "metadata": {},
   "outputs": [],
   "source": [
    "new_user.set_password('securepassword!')"
   ]
  },
  {
   "cell_type": "code",
   "execution_count": 6,
   "metadata": {},
   "outputs": [
    {
     "data": {
      "text/plain": [
       "'argon2$argon2i$v=19$m=512,t=2,p=2$MGdYVkRXZXdIaU5n$PX7tcVmcGLvx6Mw4bNCVPw'"
      ]
     },
     "execution_count": 6,
     "metadata": {},
     "output_type": "execute_result"
    }
   ],
   "source": [
    "new_user.password"
   ]
  },
  {
   "cell_type": "code",
   "execution_count": 7,
   "metadata": {},
   "outputs": [],
   "source": [
    "# Don't:\n",
    "# user = User.objects.create(...)\n",
    "# user.set_password(...)\n",
    "# user.save()\n",
    "# Do:\n",
    "user = User.objects.create_user(\n",
    "    email=\"new_user@jambonsw.com\",\n",
    "    short_name=\"User\",\n",
    "    full_name=\"User McUser\",\n",
    "    password=\"securepassword!\",\n",
    ")"
   ]
  },
  {
   "cell_type": "code",
   "execution_count": 8,
   "metadata": {},
   "outputs": [
    {
     "data": {
      "text/plain": [
       "<User: new_user@jambonsw.com>"
      ]
     },
     "execution_count": 8,
     "metadata": {},
     "output_type": "execute_result"
    }
   ],
   "source": [
    "user"
   ]
  },
  {
   "cell_type": "code",
   "execution_count": 9,
   "metadata": {},
   "outputs": [
    {
     "data": {
      "text/plain": [
       "'argon2$argon2i$v=19$m=512,t=2,p=2$YkhQNHdicmxiQldK$UA1n1rvp5Yz82aOaWY2OBw'"
      ]
     },
     "execution_count": 9,
     "metadata": {},
     "output_type": "execute_result"
    }
   ],
   "source": [
    "user.password"
   ]
  },
  {
   "cell_type": "code",
   "execution_count": 10,
   "metadata": {},
   "outputs": [
    {
     "data": {
      "text/plain": [
       "True"
      ]
     },
     "execution_count": 10,
     "metadata": {},
     "output_type": "execute_result"
    }
   ],
   "source": [
    "user.check_password(\"securepassword!\")"
   ]
  },
  {
   "cell_type": "code",
   "execution_count": 11,
   "metadata": {},
   "outputs": [
    {
     "data": {
      "text/plain": [
       "False"
      ]
     },
     "execution_count": 11,
     "metadata": {},
     "output_type": "execute_result"
    }
   ],
   "source": [
    "user.check_password(\"wrong\")"
   ]
  },
  {
   "cell_type": "code",
   "execution_count": 12,
   "metadata": {},
   "outputs": [],
   "source": [
    "# Django Girls is a real and great organization\n",
    "# The email shown here is fake, however!\n",
    "superuser = User.objects.create_superuser(\n",
    "    email=\"ada@djangogirls.org\",\n",
    "    short_name=\"Ada\",\n",
    "    full_name=\"Ada Lovelace\",\n",
    "    password=\"securepassword!\",\n",
    ")"
   ]
  },
  {
   "cell_type": "markdown",
   "metadata": {},
   "source": [
    "# Content-Type"
   ]
  },
  {
   "cell_type": "code",
   "execution_count": 13,
   "metadata": {},
   "outputs": [],
   "source": [
    "from django.contrib.contenttypes.models import ContentType"
   ]
  },
  {
   "cell_type": "code",
   "execution_count": 14,
   "metadata": {},
   "outputs": [
    {
     "data": {
      "text/plain": [
       "[<ContentType: log entry>,\n",
       " <ContentType: permission>,\n",
       " <ContentType: group>,\n",
       " <ContentType: content type>,\n",
       " <ContentType: session>,\n",
       " <ContentType: blog post>,\n",
       " <ContentType: tag>,\n",
       " <ContentType: startup>,\n",
       " <ContentType: news article>,\n",
       " <ContentType: user>]"
      ]
     },
     "execution_count": 14,
     "metadata": {},
     "output_type": "execute_result"
    }
   ],
   "source": [
    "list(ContentType.objects.all())"
   ]
  },
  {
   "cell_type": "code",
   "execution_count": 15,
   "metadata": {},
   "outputs": [
    {
     "data": {
      "text/plain": [
       "[{'id': 1, 'app_label': 'admin', 'model': 'logentry'},\n",
       " {'id': 2, 'app_label': 'auth', 'model': 'permission'},\n",
       " {'id': 3, 'app_label': 'auth', 'model': 'group'},\n",
       " {'id': 4, 'app_label': 'contenttypes', 'model': 'contenttype'},\n",
       " {'id': 5, 'app_label': 'sessions', 'model': 'session'},\n",
       " {'id': 6, 'app_label': 'blog', 'model': 'post'},\n",
       " {'id': 7, 'app_label': 'organizer', 'model': 'tag'},\n",
       " {'id': 8, 'app_label': 'organizer', 'model': 'startup'},\n",
       " {'id': 9, 'app_label': 'organizer', 'model': 'newslink'},\n",
       " {'id': 10, 'app_label': 'user', 'model': 'user'}]"
      ]
     },
     "execution_count": 15,
     "metadata": {},
     "output_type": "execute_result"
    }
   ],
   "source": [
    "list(ContentType.objects.values())"
   ]
  },
  {
   "cell_type": "code",
   "execution_count": 16,
   "metadata": {},
   "outputs": [],
   "source": [
    "Post_CT = ContentType.objects.get(app_label=\"blog\", model=\"post\")"
   ]
  },
  {
   "cell_type": "code",
   "execution_count": 17,
   "metadata": {},
   "outputs": [
    {
     "data": {
      "text/plain": [
       "<ContentType: blog post>"
      ]
     },
     "execution_count": 17,
     "metadata": {},
     "output_type": "execute_result"
    }
   ],
   "source": [
    "Post_CT"
   ]
  },
  {
   "cell_type": "code",
   "execution_count": 18,
   "metadata": {},
   "outputs": [],
   "source": [
    "Post = Post_CT.model_class()"
   ]
  },
  {
   "cell_type": "code",
   "execution_count": 19,
   "metadata": {},
   "outputs": [
    {
     "data": {
      "text/plain": [
       "blog.models.Post"
      ]
     },
     "execution_count": 19,
     "metadata": {},
     "output_type": "execute_result"
    }
   ],
   "source": [
    "Post"
   ]
  },
  {
   "cell_type": "markdown",
   "metadata": {},
   "source": [
    "For more info: https://docs.djangoproject.com/en/2.2/ref/contrib/contenttypes/"
   ]
  },
  {
   "cell_type": "markdown",
   "metadata": {},
   "source": [
    "# Permissions\n",
    "\n",
    "Format:\n",
    "\n",
    "- `<app_label>.<behavior>_<model>`\n",
    "- `<app_label>.<code_name>`\n",
    "\n",
    "Behavior: `view`, `add`, `change`, `delete`"
   ]
  },
  {
   "cell_type": "code",
   "execution_count": 20,
   "metadata": {},
   "outputs": [
    {
     "data": {
      "text/plain": [
       "False"
      ]
     },
     "execution_count": 20,
     "metadata": {},
     "output_type": "execute_result"
    }
   ],
   "source": [
    "user.has_perm(\"blog.add_post\")"
   ]
  },
  {
   "cell_type": "code",
   "execution_count": 21,
   "metadata": {},
   "outputs": [
    {
     "data": {
      "text/plain": [
       "False"
      ]
     },
     "execution_count": 21,
     "metadata": {},
     "output_type": "execute_result"
    }
   ],
   "source": [
    "user.has_perm(\"organizer.change_tag\")"
   ]
  },
  {
   "cell_type": "code",
   "execution_count": 22,
   "metadata": {},
   "outputs": [
    {
     "data": {
      "text/plain": [
       "True"
      ]
     },
     "execution_count": 22,
     "metadata": {},
     "output_type": "execute_result"
    }
   ],
   "source": [
    "superuser.has_perm(\"blog.add_post\")"
   ]
  },
  {
   "cell_type": "code",
   "execution_count": 23,
   "metadata": {},
   "outputs": [
    {
     "data": {
      "text/plain": [
       "True"
      ]
     },
     "execution_count": 23,
     "metadata": {},
     "output_type": "execute_result"
    }
   ],
   "source": [
    "superuser.has_perm(\"organizer.change_tag\")"
   ]
  },
  {
   "cell_type": "code",
   "execution_count": 24,
   "metadata": {},
   "outputs": [
    {
     "data": {
      "text/plain": [
       "<QuerySet []>"
      ]
     },
     "execution_count": 24,
     "metadata": {},
     "output_type": "execute_result"
    }
   ],
   "source": [
    "user.user_permissions.all()"
   ]
  },
  {
   "cell_type": "code",
   "execution_count": 25,
   "metadata": {},
   "outputs": [
    {
     "data": {
      "text/plain": [
       "<QuerySet []>"
      ]
     },
     "execution_count": 25,
     "metadata": {},
     "output_type": "execute_result"
    }
   ],
   "source": [
    "superuser.user_permissions.all()"
   ]
  },
  {
   "cell_type": "code",
   "execution_count": 26,
   "metadata": {},
   "outputs": [
    {
     "data": {
      "text/plain": [
       "False"
      ]
     },
     "execution_count": 26,
     "metadata": {},
     "output_type": "execute_result"
    }
   ],
   "source": [
    "user.is_superuser"
   ]
  },
  {
   "cell_type": "code",
   "execution_count": 27,
   "metadata": {},
   "outputs": [
    {
     "data": {
      "text/plain": [
       "True"
      ]
     },
     "execution_count": 27,
     "metadata": {},
     "output_type": "execute_result"
    }
   ],
   "source": [
    "superuser.is_superuser"
   ]
  },
  {
   "cell_type": "code",
   "execution_count": 28,
   "metadata": {},
   "outputs": [
    {
     "data": {
      "text/plain": [
       "40"
      ]
     },
     "execution_count": 28,
     "metadata": {},
     "output_type": "execute_result"
    }
   ],
   "source": [
    "from django.contrib.auth.models import Permission\n",
    "Permission.objects.count()"
   ]
  },
  {
   "cell_type": "code",
   "execution_count": 29,
   "metadata": {},
   "outputs": [
    {
     "data": {
      "text/plain": [
       "[<Permission: blog | blog post | Can add blog post>,\n",
       " <Permission: blog | blog post | Can change blog post>,\n",
       " <Permission: blog | blog post | Can delete blog post>,\n",
       " <Permission: blog | blog post | Can view blog post>]"
      ]
     },
     "execution_count": 29,
     "metadata": {},
     "output_type": "execute_result"
    }
   ],
   "source": [
    "blog_content_type = ContentType.objects.get_for_model(Post)\n",
    "list(\n",
    "    Permission.objects.filter(content_type=blog_content_type)\n",
    ")"
   ]
  },
  {
   "cell_type": "code",
   "execution_count": 30,
   "metadata": {},
   "outputs": [
    {
     "data": {
      "text/plain": [
       "[{'id': 21,\n",
       "  'name': 'Can add blog post',\n",
       "  'content_type_id': 6,\n",
       "  'codename': 'add_post'},\n",
       " {'id': 22,\n",
       "  'name': 'Can change blog post',\n",
       "  'content_type_id': 6,\n",
       "  'codename': 'change_post'},\n",
       " {'id': 23,\n",
       "  'name': 'Can delete blog post',\n",
       "  'content_type_id': 6,\n",
       "  'codename': 'delete_post'},\n",
       " {'id': 24,\n",
       "  'name': 'Can view blog post',\n",
       "  'content_type_id': 6,\n",
       "  'codename': 'view_post'}]"
      ]
     },
     "execution_count": 30,
     "metadata": {},
     "output_type": "execute_result"
    }
   ],
   "source": [
    "list(\n",
    "    Permission.objects.filter(content_type=blog_content_type).values()\n",
    ")"
   ]
  },
  {
   "cell_type": "code",
   "execution_count": 31,
   "metadata": {},
   "outputs": [],
   "source": [
    "new_permission = Permission.objects.create(\n",
    "    codename='view_future_post',\n",
    "    name='Can view unpublished Post',\n",
    "    content_type=blog_content_type,\n",
    ")"
   ]
  },
  {
   "cell_type": "markdown",
   "metadata": {},
   "source": [
    "*Warning*: Above is not useful for migrations, or across deployments!\n",
    "\n",
    "Instead: \n",
    "\n",
    "```python\n",
    "class Post(models.Model):\n",
    "\n",
    "    class Meta:\n",
    "        permissions = (\n",
    "            (\n",
    "                \"view_future_post\",\n",
    "                \"Can view unpublished Post\",\n",
    "            ),\n",
    "        )\n",
    "```\n",
    "\n",
    "Follow this code addition with a migration:\n",
    "\n",
    "`./manage.py makemigrations --name=add_view_future_post_permission blog`"
   ]
  },
  {
   "cell_type": "code",
   "execution_count": 32,
   "metadata": {},
   "outputs": [
    {
     "data": {
      "text/plain": [
       "(1,\n",
       " {'auth.Group_permissions': 0,\n",
       "  'user.User_user_permissions': 0,\n",
       "  'auth.Permission': 1})"
      ]
     },
     "execution_count": 32,
     "metadata": {},
     "output_type": "execute_result"
    }
   ],
   "source": [
    "new_permission.delete()"
   ]
  },
  {
   "cell_type": "code",
   "execution_count": 33,
   "metadata": {},
   "outputs": [],
   "source": [
    "user.user_permissions.add(*Permission.objects.filter(content_type=blog_content_type))"
   ]
  },
  {
   "cell_type": "code",
   "execution_count": 34,
   "metadata": {},
   "outputs": [
    {
     "data": {
      "text/plain": [
       "False"
      ]
     },
     "execution_count": 34,
     "metadata": {},
     "output_type": "execute_result"
    }
   ],
   "source": [
    "user.has_perm(\"blog.add_post\")"
   ]
  },
  {
   "cell_type": "code",
   "execution_count": 35,
   "metadata": {},
   "outputs": [],
   "source": [
    "user.refresh_from_db()"
   ]
  },
  {
   "cell_type": "code",
   "execution_count": 36,
   "metadata": {},
   "outputs": [
    {
     "data": {
      "text/plain": [
       "False"
      ]
     },
     "execution_count": 36,
     "metadata": {},
     "output_type": "execute_result"
    }
   ],
   "source": [
    "user.has_perm(\"blog.add_post\")"
   ]
  },
  {
   "cell_type": "code",
   "execution_count": 37,
   "metadata": {},
   "outputs": [
    {
     "data": {
      "text/plain": [
       "<QuerySet [<Permission: blog | blog post | Can add blog post>, <Permission: blog | blog post | Can change blog post>, <Permission: blog | blog post | Can delete blog post>, <Permission: blog | blog post | Can view blog post>]>"
      ]
     },
     "execution_count": 37,
     "metadata": {},
     "output_type": "execute_result"
    }
   ],
   "source": [
    "user.user_permissions.all()"
   ]
  },
  {
   "cell_type": "code",
   "execution_count": 38,
   "metadata": {},
   "outputs": [
    {
     "data": {
      "text/plain": [
       "False"
      ]
     },
     "execution_count": 38,
     "metadata": {},
     "output_type": "execute_result"
    }
   ],
   "source": [
    "user.has_perm(\"blog.add_post\")"
   ]
  },
  {
   "cell_type": "code",
   "execution_count": 39,
   "metadata": {},
   "outputs": [],
   "source": [
    "user = User.objects.get(pk=user.pk)"
   ]
  },
  {
   "cell_type": "code",
   "execution_count": 40,
   "metadata": {},
   "outputs": [
    {
     "data": {
      "text/plain": [
       "True"
      ]
     },
     "execution_count": 40,
     "metadata": {},
     "output_type": "execute_result"
    }
   ],
   "source": [
    "user.has_perm(\"blog.add_post\")"
   ]
  },
  {
   "cell_type": "markdown",
   "metadata": {},
   "source": [
    "# Groups"
   ]
  },
  {
   "cell_type": "code",
   "execution_count": 41,
   "metadata": {},
   "outputs": [
    {
     "data": {
      "text/plain": [
       "<QuerySet []>"
      ]
     },
     "execution_count": 41,
     "metadata": {},
     "output_type": "execute_result"
    }
   ],
   "source": [
    "from django.contrib.auth.models import Group\n",
    "Group.objects.all()"
   ]
  },
  {
   "cell_type": "code",
   "execution_count": 42,
   "metadata": {},
   "outputs": [
    {
     "data": {
      "text/plain": [
       "<QuerySet [{'id': 2, 'name': 'contributors'}]>"
      ]
     },
     "execution_count": 42,
     "metadata": {},
     "output_type": "execute_result"
    }
   ],
   "source": [
    "contributors = Group.objects.create(name='contributors')\n",
    "Group.objects.values()"
   ]
  },
  {
   "cell_type": "code",
   "execution_count": 43,
   "metadata": {},
   "outputs": [
    {
     "data": {
      "text/plain": [
       "[]"
      ]
     },
     "execution_count": 43,
     "metadata": {},
     "output_type": "execute_result"
    }
   ],
   "source": [
    "list(contributors.permissions.all())"
   ]
  },
  {
   "cell_type": "code",
   "execution_count": 44,
   "metadata": {},
   "outputs": [],
   "source": [
    "Tag_CT = ContentType.objects.get(app_label=\"organizer\", model=\"tag\")\n"
   ]
  },
  {
   "cell_type": "code",
   "execution_count": 45,
   "metadata": {},
   "outputs": [
    {
     "data": {
      "text/plain": [
       "[{'id': 25,\n",
       "  'name': 'Can add tag',\n",
       "  'content_type_id': 7,\n",
       "  'codename': 'add_tag'},\n",
       " {'id': 26,\n",
       "  'name': 'Can change tag',\n",
       "  'content_type_id': 7,\n",
       "  'codename': 'change_tag'},\n",
       " {'id': 27,\n",
       "  'name': 'Can delete tag',\n",
       "  'content_type_id': 7,\n",
       "  'codename': 'delete_tag'},\n",
       " {'id': 28,\n",
       "  'name': 'Can view tag',\n",
       "  'content_type_id': 7,\n",
       "  'codename': 'view_tag'}]"
      ]
     },
     "execution_count": 45,
     "metadata": {},
     "output_type": "execute_result"
    }
   ],
   "source": [
    "list(\n",
    "    Permission.objects.filter(content_type=Tag_CT).values()\n",
    ")"
   ]
  },
  {
   "cell_type": "code",
   "execution_count": 46,
   "metadata": {},
   "outputs": [],
   "source": [
    "contributors.permissions.add(*Permission.objects.filter(content_type=Tag_CT))"
   ]
  },
  {
   "cell_type": "code",
   "execution_count": 47,
   "metadata": {},
   "outputs": [
    {
     "data": {
      "text/plain": [
       "<QuerySet [<Permission: organizer | tag | Can add tag>, <Permission: organizer | tag | Can change tag>, <Permission: organizer | tag | Can delete tag>, <Permission: organizer | tag | Can view tag>]>"
      ]
     },
     "execution_count": 47,
     "metadata": {},
     "output_type": "execute_result"
    }
   ],
   "source": [
    "contributors.permissions.all()"
   ]
  },
  {
   "cell_type": "code",
   "execution_count": 48,
   "metadata": {},
   "outputs": [],
   "source": [
    "user.groups.add(contributors)"
   ]
  },
  {
   "cell_type": "code",
   "execution_count": 49,
   "metadata": {},
   "outputs": [],
   "source": [
    "user = User.objects.get(pk=user.pk)"
   ]
  },
  {
   "cell_type": "code",
   "execution_count": 50,
   "metadata": {},
   "outputs": [
    {
     "data": {
      "text/plain": [
       "True"
      ]
     },
     "execution_count": 50,
     "metadata": {},
     "output_type": "execute_result"
    }
   ],
   "source": [
    "user.has_perm(\"organizer.change_tag\")"
   ]
  },
  {
   "cell_type": "code",
   "execution_count": 51,
   "metadata": {},
   "outputs": [
    {
     "data": {
      "text/plain": [
       "{'organizer.add_tag',\n",
       " 'organizer.change_tag',\n",
       " 'organizer.delete_tag',\n",
       " 'organizer.view_tag'}"
      ]
     },
     "execution_count": 51,
     "metadata": {},
     "output_type": "execute_result"
    }
   ],
   "source": [
    "user.get_group_permissions()\n"
   ]
  },
  {
   "cell_type": "code",
   "execution_count": 52,
   "metadata": {},
   "outputs": [
    {
     "data": {
      "text/plain": [
       "{'blog.add_post',\n",
       " 'blog.change_post',\n",
       " 'blog.delete_post',\n",
       " 'blog.view_post',\n",
       " 'organizer.add_tag',\n",
       " 'organizer.change_tag',\n",
       " 'organizer.delete_tag',\n",
       " 'organizer.view_tag'}"
      ]
     },
     "execution_count": 52,
     "metadata": {},
     "output_type": "execute_result"
    }
   ],
   "source": [
    "user.get_all_permissions()"
   ]
  },
  {
   "cell_type": "markdown",
   "metadata": {},
   "source": [
    "# Notebook Cleanup"
   ]
  },
  {
   "cell_type": "code",
   "execution_count": 53,
   "metadata": {},
   "outputs": [
    {
     "data": {
      "text/plain": [
       "(6,\n",
       " {'admin.LogEntry': 0,\n",
       "  'user.User_groups': 1,\n",
       "  'user.User_user_permissions': 4,\n",
       "  'user.User': 1})"
      ]
     },
     "execution_count": 53,
     "metadata": {},
     "output_type": "execute_result"
    }
   ],
   "source": [
    "user.delete()"
   ]
  },
  {
   "cell_type": "code",
   "execution_count": 54,
   "metadata": {},
   "outputs": [
    {
     "data": {
      "text/plain": [
       "(1,\n",
       " {'admin.LogEntry': 0,\n",
       "  'user.User_groups': 0,\n",
       "  'user.User_user_permissions': 0,\n",
       "  'user.User': 1})"
      ]
     },
     "execution_count": 54,
     "metadata": {},
     "output_type": "execute_result"
    }
   ],
   "source": [
    "superuser.delete()"
   ]
  },
  {
   "cell_type": "code",
   "execution_count": 55,
   "metadata": {},
   "outputs": [
    {
     "data": {
      "text/plain": [
       "(5, {'auth.Group_permissions': 4, 'user.User_groups': 0, 'auth.Group': 1})"
      ]
     },
     "execution_count": 55,
     "metadata": {},
     "output_type": "execute_result"
    }
   ],
   "source": [
    "contributors.delete()"
   ]
  }
 ],
 "metadata": {
  "kernelspec": {
   "display_name": "Django Shell-Plus",
   "language": "python",
   "name": "django_extensions"
  },
  "language_info": {
   "codemirror_mode": {
    "name": "ipython",
    "version": 3
   },
   "file_extension": ".py",
   "mimetype": "text/x-python",
   "name": "python",
   "nbconvert_exporter": "python",
   "pygments_lexer": "ipython3",
   "version": "3.7.4"
  }
 },
 "nbformat": 4,
 "nbformat_minor": 2
}
